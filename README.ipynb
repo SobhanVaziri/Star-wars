{
 "cells": [
  {
   "cell_type": "markdown",
   "id": "ac62596f-4abf-4215-ab40-cbd2ef49c9f7",
   "metadata": {},
   "source": [
    "![photo](https://github.com/user-attachments/assets/9601b45a-da33-4475-8b05-d7f4c9c37b1e)\n"
   ]
  },
  {
   "cell_type": "code",
   "execution_count": null,
   "id": "969a90c5-937d-4743-8d6d-c36817895e0f",
   "metadata": {},
   "outputs": [],
   "source": []
  }
 ],
 "metadata": {
  "kernelspec": {
   "display_name": "Python 3 (ipykernel)",
   "language": "python",
   "name": "python3"
  },
  "language_info": {
   "codemirror_mode": {
    "name": "ipython",
    "version": 3
   },
   "file_extension": ".py",
   "mimetype": "text/x-python",
   "name": "python",
   "nbconvert_exporter": "python",
   "pygments_lexer": "ipython3",
   "version": "3.12.4"
  }
 },
 "nbformat": 4,
 "nbformat_minor": 5
}
